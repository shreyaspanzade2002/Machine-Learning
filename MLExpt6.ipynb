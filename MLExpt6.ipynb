{
  "nbformat": 4,
  "nbformat_minor": 0,
  "metadata": {
    "colab": {
      "provenance": []
    },
    "kernelspec": {
      "name": "python3",
      "display_name": "Python 3"
    },
    "language_info": {
      "name": "python"
    }
  },
  "cells": [
    {
      "cell_type": "markdown",
      "source": [
        "##Sarvesh Gaonkadkar 21102B0001 CMPN-B Batch1 ML-Expt6"
      ],
      "metadata": {
        "id": "_ETFtl5bIVWM"
      }
    },
    {
      "cell_type": "markdown",
      "source": [
        "### 1. Data Preparation:\n",
        "* Wine Quality Dataset (Classification Task):\n",
        "  1. Load the dataset from here.\n",
        "  2. Explore the dataset (check for missing values, data types, etc.).\n",
        "  3. Split the dataset into training and testing sets (e.g., 80% training, 20% testing)."
      ],
      "metadata": {
        "id": "PJpRj1fDIteK"
      }
    },
    {
      "cell_type": "code",
      "execution_count": 27,
      "metadata": {
        "colab": {
          "base_uri": "https://localhost:8080/"
        },
        "id": "YqVVIcj_IPA5",
        "outputId": "6f646c95-2cbb-4cea-b342-a852cb49be78"
      },
      "outputs": [
        {
          "output_type": "stream",
          "name": "stdout",
          "text": [
            "   fixed acidity  volatile acidity  citric acid  residual sugar  chlorides  \\\n",
            "0            7.4              0.70         0.00             1.9      0.076   \n",
            "1            7.8              0.88         0.00             2.6      0.098   \n",
            "2            7.8              0.76         0.04             2.3      0.092   \n",
            "3           11.2              0.28         0.56             1.9      0.075   \n",
            "4            7.4              0.70         0.00             1.9      0.076   \n",
            "\n",
            "   free sulfur dioxide  total sulfur dioxide  density    pH  sulphates  \\\n",
            "0                 11.0                  34.0   0.9978  3.51       0.56   \n",
            "1                 25.0                  67.0   0.9968  3.20       0.68   \n",
            "2                 15.0                  54.0   0.9970  3.26       0.65   \n",
            "3                 17.0                  60.0   0.9980  3.16       0.58   \n",
            "4                 11.0                  34.0   0.9978  3.51       0.56   \n",
            "\n",
            "   alcohol  quality  \n",
            "0      9.4        5  \n",
            "1      9.8        5  \n",
            "2      9.8        5  \n",
            "3      9.8        6  \n",
            "4      9.4        5  \n",
            "<class 'pandas.core.frame.DataFrame'>\n",
            "RangeIndex: 1599 entries, 0 to 1598\n",
            "Data columns (total 12 columns):\n",
            " #   Column                Non-Null Count  Dtype  \n",
            "---  ------                --------------  -----  \n",
            " 0   fixed acidity         1599 non-null   float64\n",
            " 1   volatile acidity      1599 non-null   float64\n",
            " 2   citric acid           1599 non-null   float64\n",
            " 3   residual sugar        1599 non-null   float64\n",
            " 4   chlorides             1599 non-null   float64\n",
            " 5   free sulfur dioxide   1599 non-null   float64\n",
            " 6   total sulfur dioxide  1599 non-null   float64\n",
            " 7   density               1599 non-null   float64\n",
            " 8   pH                    1599 non-null   float64\n",
            " 9   sulphates             1599 non-null   float64\n",
            " 10  alcohol               1599 non-null   float64\n",
            " 11  quality               1599 non-null   int64  \n",
            "dtypes: float64(11), int64(1)\n",
            "memory usage: 150.0 KB\n",
            "None\n",
            "Unique quality values: [5 6 7 4 8 3]\n"
          ]
        }
      ],
      "source": [
        "# Import necessary libraries\n",
        "import pandas as pd\n",
        "from sklearn.model_selection import train_test_split\n",
        "from sklearn.preprocessing import StandardScaler\n",
        "\n",
        "# Load the Wine Quality dataset\n",
        "wine_data = pd.read_csv(\"https://archive.ics.uci.edu/ml/machine-learning-databases/wine-quality/winequality-red.csv\", sep=';')\n",
        "\n",
        "# Explore the dataset\n",
        "print(wine_data.head())\n",
        "print(wine_data.info())\n",
        "\n",
        "# Check unique values in the target variable\n",
        "print(\"Unique quality values:\", wine_data['quality'].unique())\n",
        "\n",
        "# Convert the target variable to integer type if needed\n",
        "wine_data['quality'] = wine_data['quality'].astype(int)\n",
        "\n",
        "# Split the dataset into features (X) and target (y)\n",
        "X = wine_data.drop('quality', axis=1)\n",
        "y = wine_data['quality']\n",
        "\n",
        "# Split the data into training and testing sets\n",
        "X_train, X_test, y_train, y_test = train_test_split(X, y, test_size=0.2, random_state=42)\n",
        "\n",
        "# Standardize the features\n",
        "scaler = StandardScaler()\n",
        "X_train = scaler.fit_transform(X_train)\n",
        "X_test = scaler.transform(X_test)"
      ]
    },
    {
      "cell_type": "markdown",
      "source": [
        "* Concrete Compressive Strength Dataset (Regression Task):\n",
        "1. Load the dataset from here.\n",
        "2. Perform the same exploratory analysis as for the classification task.\n",
        "3. Split the dataset into training and testing sets."
      ],
      "metadata": {
        "id": "UqHlnHj-JVXm"
      }
    },
    {
      "cell_type": "code",
      "source": [
        "import pandas as pd\n",
        "from sklearn.model_selection import train_test_split\n",
        "from sklearn.preprocessing import StandardScaler\n",
        "\n",
        "# Load the Concrete Compressive Strength dataset\n",
        "concrete_data = pd.read_csv(\"/content/Concrete_Data.csv\")\n",
        "\n",
        "# Explore the dataset\n",
        "print(concrete_data.head())\n",
        "print(concrete_data.info())\n",
        "\n",
        "# Strip spaces from column names if necessary\n",
        "concrete_data.columns = concrete_data.columns.str.strip()\n",
        "\n",
        "# Split the dataset into features (X) and target (y)\n",
        "X = concrete_data.drop('Concrete compressive strength(MPa, megapascals)', axis=1)  # Adjust as necessary\n",
        "y = concrete_data['Concrete compressive strength(MPa, megapascals)']  # Adjust as necessary\n",
        "\n",
        "# Split the data into training and testing sets\n",
        "X_train, X_test, y_train, y_test = train_test_split(X, y, test_size=0.2, random_state=42)\n",
        "\n",
        "# Initialize the scaler\n",
        "scaler = StandardScaler()\n",
        "\n",
        "# Standardize the features\n",
        "X_train = scaler.fit_transform(X_train)\n",
        "X_test = scaler.transform(X_test)"
      ],
      "metadata": {
        "colab": {
          "base_uri": "https://localhost:8080/"
        },
        "id": "KbwTgAUVJly3",
        "outputId": "655b1935-50f1-4628-dbfa-450e03f7720f"
      },
      "execution_count": 22,
      "outputs": [
        {
          "output_type": "stream",
          "name": "stdout",
          "text": [
            "   Cement (component 1)(kg in a m^3 mixture)  \\\n",
            "0                                      540.0   \n",
            "1                                      540.0   \n",
            "2                                      332.5   \n",
            "3                                      332.5   \n",
            "4                                      198.6   \n",
            "\n",
            "   Blast Furnace Slag (component 2)(kg in a m^3 mixture)  \\\n",
            "0                                                0.0       \n",
            "1                                                0.0       \n",
            "2                                              142.5       \n",
            "3                                              142.5       \n",
            "4                                              132.4       \n",
            "\n",
            "   Fly Ash (component 3)(kg in a m^3 mixture)  \\\n",
            "0                                         0.0   \n",
            "1                                         0.0   \n",
            "2                                         0.0   \n",
            "3                                         0.0   \n",
            "4                                         0.0   \n",
            "\n",
            "   Water  (component 4)(kg in a m^3 mixture)  \\\n",
            "0                                      162.0   \n",
            "1                                      162.0   \n",
            "2                                      228.0   \n",
            "3                                      228.0   \n",
            "4                                      192.0   \n",
            "\n",
            "   Superplasticizer (component 5)(kg in a m^3 mixture)  \\\n",
            "0                                                2.5     \n",
            "1                                                2.5     \n",
            "2                                                0.0     \n",
            "3                                                0.0     \n",
            "4                                                0.0     \n",
            "\n",
            "   Coarse Aggregate  (component 6)(kg in a m^3 mixture)  \\\n",
            "0                                             1040.0      \n",
            "1                                             1055.0      \n",
            "2                                              932.0      \n",
            "3                                              932.0      \n",
            "4                                              978.4      \n",
            "\n",
            "   Fine Aggregate (component 7)(kg in a m^3 mixture)  Age (day)  \\\n",
            "0                                              676.0         28   \n",
            "1                                              676.0         28   \n",
            "2                                              594.0        270   \n",
            "3                                              594.0        365   \n",
            "4                                              825.5        360   \n",
            "\n",
            "   Concrete compressive strength(MPa, megapascals)   \n",
            "0                                             79.99  \n",
            "1                                             61.89  \n",
            "2                                             40.27  \n",
            "3                                             41.05  \n",
            "4                                             44.30  \n",
            "<class 'pandas.core.frame.DataFrame'>\n",
            "RangeIndex: 1030 entries, 0 to 1029\n",
            "Data columns (total 9 columns):\n",
            " #   Column                                                 Non-Null Count  Dtype  \n",
            "---  ------                                                 --------------  -----  \n",
            " 0   Cement (component 1)(kg in a m^3 mixture)              1030 non-null   float64\n",
            " 1   Blast Furnace Slag (component 2)(kg in a m^3 mixture)  1030 non-null   float64\n",
            " 2   Fly Ash (component 3)(kg in a m^3 mixture)             1030 non-null   float64\n",
            " 3   Water  (component 4)(kg in a m^3 mixture)              1030 non-null   float64\n",
            " 4   Superplasticizer (component 5)(kg in a m^3 mixture)    1030 non-null   float64\n",
            " 5   Coarse Aggregate  (component 6)(kg in a m^3 mixture)   1030 non-null   float64\n",
            " 6   Fine Aggregate (component 7)(kg in a m^3 mixture)      1030 non-null   float64\n",
            " 7   Age (day)                                              1030 non-null   int64  \n",
            " 8   Concrete compressive strength(MPa, megapascals)        1030 non-null   float64\n",
            "dtypes: float64(8), int64(1)\n",
            "memory usage: 72.5 KB\n",
            "None\n"
          ]
        }
      ]
    },
    {
      "cell_type": "markdown",
      "source": [
        "### 2. Implement SVM Models:\n",
        "* Classification:\n",
        "1. Use SVC from the sklearn.svm library.\n",
        "2. Train the classifier using the training set.\n",
        "3. Use the model to predict the target variable for the test set."
      ],
      "metadata": {
        "id": "T8j_HDtvJ6M4"
      }
    },
    {
      "cell_type": "code",
      "source": [
        "# Import necessary libraries\n",
        "import pandas as pd\n",
        "from sklearn.model_selection import train_test_split\n",
        "from sklearn.preprocessing import StandardScaler\n",
        "from sklearn.svm import SVC\n",
        "from sklearn.metrics import (accuracy_score, classification_report, precision_score, recall_score, f1_score, roc_auc_score, roc_curve)\n",
        "from sklearn.preprocessing import label_binarize\n",
        "import matplotlib.pyplot as plt\n",
        "import numpy as np\n",
        "\n",
        "# Create and train the SVM classifier\n",
        "classifier = SVC(kernel='linear', probability=True)\n",
        "classifier.fit(X_train, y_train)\n",
        "\n",
        "# Predict the target variable for the test set\n",
        "y_pred = classifier.predict(X_test)\n",
        "\n",
        "# Evaluate the model\n",
        "accuracy = accuracy_score(y_test, y_pred)\n",
        "print(f\"Accuracy: {accuracy}\")\n",
        "print(classification_report(y_test, y_pred))\n",
        "\n",
        "# Calculate additional performance metrics\n",
        "precision = precision_score(y_test, y_pred, average='weighted')\n",
        "recall = recall_score(y_test, y_pred, average='weighted')\n",
        "f1 = f1_score(y_test, y_pred, average='weighted')\n",
        "\n",
        "# Binarize the labels for multiclass case\n",
        "classes = np.unique(y_train)  # Get unique classes from training labels\n",
        "y_test_binarized = label_binarize(y_test, classes=classes)\n",
        "\n",
        "# Get predicted probabilities for each class\n",
        "y_prob = classifier.predict_proba(X_test)\n",
        "\n",
        "# Calculate ROC-AUC for multiclass\n",
        "roc_auc = roc_auc_score(y_test_binarized, y_prob, average='weighted', multi_class='ovr')\n",
        "\n",
        "# Plot ROC curve for each class\n",
        "plt.figure()\n",
        "for i in range(len(classes)):\n",
        "    fpr, tpr, _ = roc_curve(y_test_binarized[:, i], y_prob[:, i])\n",
        "    plt.plot(fpr, tpr, label=f'Class {classes[i]} (AUC = {roc_auc_score(y_test_binarized[:, i], y_prob[:, i]):.2f})')\n",
        "\n",
        "plt.xlabel('False Positive Rate')\n",
        "plt.ylabel('True Positive Rate')\n",
        "plt.title('ROC Curve for Multiclass Classification')\n",
        "plt.legend()\n",
        "plt.show()"
      ],
      "metadata": {
        "colab": {
          "base_uri": "https://localhost:8080/",
          "height": 895
        },
        "id": "rORXFK9nJ61g",
        "outputId": "a50c59f2-01eb-4157-e1bd-aeeae17f8961"
      },
      "execution_count": 28,
      "outputs": [
        {
          "output_type": "stream",
          "name": "stdout",
          "text": [
            "Accuracy: 0.559375\n",
            "              precision    recall  f1-score   support\n",
            "\n",
            "           3       0.00      0.00      0.00         1\n",
            "           4       0.00      0.00      0.00        10\n",
            "           5       0.60      0.77      0.68       130\n",
            "           6       0.51      0.60      0.55       132\n",
            "           7       0.00      0.00      0.00        42\n",
            "           8       0.00      0.00      0.00         5\n",
            "\n",
            "    accuracy                           0.56       320\n",
            "   macro avg       0.19      0.23      0.20       320\n",
            "weighted avg       0.46      0.56      0.50       320\n",
            "\n"
          ]
        },
        {
          "output_type": "stream",
          "name": "stderr",
          "text": [
            "/usr/local/lib/python3.10/dist-packages/sklearn/metrics/_classification.py:1531: UndefinedMetricWarning: Precision is ill-defined and being set to 0.0 in labels with no predicted samples. Use `zero_division` parameter to control this behavior.\n",
            "  _warn_prf(average, modifier, f\"{metric.capitalize()} is\", len(result))\n",
            "/usr/local/lib/python3.10/dist-packages/sklearn/metrics/_classification.py:1531: UndefinedMetricWarning: Precision is ill-defined and being set to 0.0 in labels with no predicted samples. Use `zero_division` parameter to control this behavior.\n",
            "  _warn_prf(average, modifier, f\"{metric.capitalize()} is\", len(result))\n",
            "/usr/local/lib/python3.10/dist-packages/sklearn/metrics/_classification.py:1531: UndefinedMetricWarning: Precision is ill-defined and being set to 0.0 in labels with no predicted samples. Use `zero_division` parameter to control this behavior.\n",
            "  _warn_prf(average, modifier, f\"{metric.capitalize()} is\", len(result))\n",
            "/usr/local/lib/python3.10/dist-packages/sklearn/metrics/_classification.py:1531: UndefinedMetricWarning: Precision is ill-defined and being set to 0.0 in labels with no predicted samples. Use `zero_division` parameter to control this behavior.\n",
            "  _warn_prf(average, modifier, f\"{metric.capitalize()} is\", len(result))\n"
          ]
        },
        {
          "output_type": "display_data",
          "data": {
            "text/plain": [
              "<Figure size 640x480 with 1 Axes>"
            ],
            "image/png": "[encoded data removed]"
          },
          "metadata": {}
        }
      ]
    },
    {
      "cell_type": "markdown",
      "source": [
        "* Regression:\n",
        "1. Use SVR from the sklearn.svm library.\n",
        "2. Train the regressor on the training data.\n",
        "3. Predict the target variable for the testing set."
      ],
      "metadata": {
        "id": "4rDnsXI8J7QC"
      }
    },
    {
      "cell_type": "code",
      "source": [
        "# Import necessary libraries for SVM regression\n",
        "from sklearn.svm import SVR\n",
        "from sklearn.metrics import mean_squared_error, r2_score\n",
        "\n",
        "# Create and train the SVM regressor\n",
        "regressor = SVR(kernel='linear')\n",
        "regressor.fit(X_train, y_train)\n",
        "\n",
        "# Predict the target variable for the test set\n",
        "y_pred = regressor.predict(X_test)\n",
        "\n",
        "# Evaluate the model\n",
        "mse = mean_squared_error(y_test, y_pred)\n",
        "r2 = r2_score(y_test, y_pred)\n",
        "print(f\"Mean Squared Error: {mse}\")\n",
        "print(f\"R-squared: {r2}\")\n",
        "\n",
        "# Plot actual vs predicted values\n",
        "plt.scatter(y_test, y_pred)\n",
        "plt.xlabel('Actual Values')\n",
        "plt.ylabel('Predicted Values')\n",
        "plt.title('Actual vs Predicted')\n",
        "plt.show()"
      ],
      "metadata": {
        "colab": {
          "base_uri": "https://localhost:8080/",
          "height": 509
        },
        "id": "qUUe6GIUJ8CD",
        "outputId": "7873b68e-64cc-486d-eb55-618c4676c4bb"
      },
      "execution_count": 29,
      "outputs": [
        {
          "output_type": "stream",
          "name": "stdout",
          "text": [
            "Mean Squared Error: 0.39663419885253093\n",
            "R-squared: 0.3930671115453136\n"
          ]
        },
        {
          "output_type": "display_data",
          "data": {
            "text/plain": [
              "<Figure size 640x480 with 1 Axes>"
            ],
            "image/png": "[encoded data removed]"
          },
          "metadata": {}
        }
      ]
    },
    {
      "cell_type": "markdown",
      "source": [
        "### 3. Performance Metrics:\n",
        "* Classification: Calculate accuracy, precision, recall, F1-score, and ROC-AUC."
      ],
      "metadata": {
        "id": "0vr4EcscLHK9"
      }
    },
    {
      "cell_type": "code",
      "source": [
        "# Print performance metrics for classification\n",
        "print(f\"Accuracy: {accuracy:.4f}\")\n",
        "print(f\"Precision: {precision:.4f}\")\n",
        "print(f\"Recall: {recall:.4f}\")\n",
        "print(f\"F1-score: {f1:.4f}\")\n",
        "print(f\"ROC-AUC: {roc_auc:.4f}\")"
      ],
      "metadata": {
        "colab": {
          "base_uri": "https://localhost:8080/"
        },
        "id": "IkR8kVRjKYHj",
        "outputId": "069cb6f4-1ed7-4522-b12a-f20951ceeb50"
      },
      "execution_count": 13,
      "outputs": [
        {
          "output_type": "stream",
          "name": "stdout",
          "text": [
            "Accuracy: 0.5594\n",
            "Precision: 0.4563\n",
            "Recall: 0.5594\n",
            "F1-score: 0.5024\n",
            "ROC-AUC: 0.7259\n"
          ]
        }
      ]
    },
    {
      "cell_type": "markdown",
      "source": [
        "* Regression: Calculate Mean Squared Error (MSE) and R-squared."
      ],
      "metadata": {
        "id": "IdJlvc4QLKkR"
      }
    },
    {
      "cell_type": "code",
      "source": [
        "# Print performance metrics for regression\n",
        "print(f\"Mean Squared Error (MSE): {mse:.4f}\")\n",
        "print(f\"R-squared: {r2:.4f}\")"
      ],
      "metadata": {
        "colab": {
          "base_uri": "https://localhost:8080/"
        },
        "id": "OpxVQE5YLeb_",
        "outputId": "9cf99e83-f159-47ea-cbdc-f759e3737ef6"
      },
      "execution_count": 30,
      "outputs": [
        {
          "output_type": "stream",
          "name": "stdout",
          "text": [
            "Mean Squared Error (MSE): 0.3966\n",
            "R-squared: 0.3931\n"
          ]
        }
      ]
    },
    {
      "cell_type": "markdown",
      "source": [
        "###4. Analysis and Interpretation\n",
        "* Classification Analysis:"
      ],
      "metadata": {
        "id": "AnB3CA6XLlJZ"
      }
    },
    {
      "cell_type": "code",
      "source": [
        "# Classification analysis\n",
        "print(\"\\n--- Classification Analysis ---\")\n",
        "if precision > recall:\n",
        "    print(\"Precision is higher than Recall: The model may miss too many true positives (i.e., it's conservative in predicting positives).\")\n",
        "else:\n",
        "    print(\"Recall is higher than Precision: The model predicts more true positives, but also includes more false positives.\")\n",
        "\n",
        "if f1 > 0.8:\n",
        "    print(\"Good balance between precision and recall, indicating well-performing model.\")\n",
        "else:\n",
        "    print(\"F1-score is lower, consider improving the balance between precision and recall.\")"
      ],
      "metadata": {
        "colab": {
          "base_uri": "https://localhost:8080/"
        },
        "id": "5ow1-AleLwUI",
        "outputId": "5562ec40-67a4-48ab-8f1a-21e99d2653d9"
      },
      "execution_count": 31,
      "outputs": [
        {
          "output_type": "stream",
          "name": "stdout",
          "text": [
            "\n",
            "--- Classification Analysis ---\n",
            "Recall is higher than Precision: The model predicts more true positives, but also includes more false positives.\n",
            "F1-score is lower, consider improving the balance between precision and recall.\n"
          ]
        }
      ]
    },
    {
      "cell_type": "markdown",
      "source": [
        "* Regression Analysis:"
      ],
      "metadata": {
        "id": "7fZy40nPLvxn"
      }
    },
    {
      "cell_type": "code",
      "source": [
        "# Regression analysis\n",
        "print(\"\\n--- Regression Analysis ---\")\n",
        "if mse > 10:  # Example threshold for high MSE\n",
        "    print(\"The Mean Squared Error is high, indicating a large deviation between predicted and actual values.\")\n",
        "else:\n",
        "    print(\"The Mean Squared Error is reasonable, indicating the model is making accurate predictions.\")\n",
        "\n",
        "if r2 < 0.5:\n",
        "    print(\"The R-squared value is low, indicating the model is not explaining much variance in the data.\")\n",
        "else:\n",
        "    print(\"The R-squared value is good, indicating the model is explaining a significant portion of the variance in the data.\")"
      ],
      "metadata": {
        "colab": {
          "base_uri": "https://localhost:8080/"
        },
        "id": "fqlrjLBLL6vG",
        "outputId": "0dbd3fe3-0fda-41b1-d6ee-b2f0bf5fdd17"
      },
      "execution_count": 32,
      "outputs": [
        {
          "output_type": "stream",
          "name": "stdout",
          "text": [
            "\n",
            "--- Regression Analysis ---\n",
            "The Mean Squared Error is reasonable, indicating the model is making accurate predictions.\n",
            "The R-squared value is low, indicating the model is not explaining much variance in the data.\n"
          ]
        }
      ]
    }
  ]
}